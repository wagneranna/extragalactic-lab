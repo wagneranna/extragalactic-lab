{
 "cells": [
  {
   "cell_type": "markdown",
   "id": "3e3ea81b",
   "metadata": {},
   "source": [
    "### Familiarise yourself with the SDSS skyserver\n",
    "\n",
    "\n",
    "Open the SDSS DR16 SkyServer Search Form\n",
    "http://skyserver.sdss.org/dr16/en/tools/search/form/searchform.aspx\n",
    "\n",
    "Chose for ‘Show me’ the option ‘any object’.\n",
    "\n",
    "Select the region ra : 130.33, dec : 29.1 and radius (arcmin) : 6\n",
    "\n",
    "Choose ‘for only objects with spectra’ and with redshifts between 0.1 and 3.0\n",
    "\n",
    "\n",
    "Allow to return 100 objects\n",
    "\n",
    "Press Generate Query or Update Query\n",
    "\n",
    "Your query as text should look like this:\n",
    "\n",
    "select top 100 p.objid, p.ra, p.dec\n",
    "\n",
    "from photoobj p, specobj s, dbo.fgetNearByObjEq(130.33,29.1,6) n\n",
    "\n",
    "where p.objid=s.bestobjid and p.objid=n.objid and s.bestobjid=n.objid and s.z BETWEEN 0.1 AND 3.0\n",
    "\n",
    "\n",
    "Press Submit Query to Image List,\n",
    "You should receive 14 rows (objects)\n",
    "\n",
    "Press Send to List"
   ]
  },
  {
   "cell_type": "code",
   "execution_count": null,
   "id": "72afa0a6",
   "metadata": {},
   "outputs": [],
   "source": []
  }
 ],
 "metadata": {
  "kernelspec": {
   "display_name": "Python 3 (ipykernel)",
   "language": "python",
   "name": "python3"
  },
  "language_info": {
   "codemirror_mode": {
    "name": "ipython",
    "version": 3
   },
   "file_extension": ".py",
   "mimetype": "text/x-python",
   "name": "python",
   "nbconvert_exporter": "python",
   "pygments_lexer": "ipython3",
   "version": "3.12.9"
  }
 },
 "nbformat": 4,
 "nbformat_minor": 5
}
