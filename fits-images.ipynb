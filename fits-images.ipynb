{
 "cells": [
  {
   "cell_type": "markdown",
   "id": "67bb61d9",
   "metadata": {},
   "source": [
    "## Inspect a fits image \n",
    "\n",
    "\n",
    "install ds9  $\\quad$  https://sites.google.com/cfa.harvard.edu/saoimageds9\n",
    "\n",
    "\n",
    "download a fits file, e.g. from SkyView   $\\quad$  https://skyview.gsfc.nasa.gov\n",
    " * go to SkyView Query Form \n",
    " * enter 'Coordinates or Source', e.g. IC5332 \n",
    " * use optical DSS survey \n",
    " * use Image size (pixels)  500 to 1000 \n",
    " * Initiate request \n",
    " * When you have the image, Download FITS\n",
    " * open with ds9\n",
    " * modify color scale, zoom in on particular regions, read header \n",
    " \n",
    " \n",
    "Try to construct a surface brightness profile \n",
    " * define circular regions \n",
    " * measure the pixel sum in these regions \n",
    " * to create a meaningfull profile, you may have to subtract the background \n",
    " * there are some bright \n",
    " \n",
    " \n",
    " The surface brightness profile can be fitted with curve fit \n",
    " * https://docs.scipy.org/doc/scipy/reference/generated/scipy.optimize.curve_fit.html\n",
    " \n",
    "\n",
    "For a comparison of Hubble Space Telescope and JWST images take a look at \n",
    " * https://archive.stsci.edu/hlsp/phangs"
   ]
  },
  {
   "cell_type": "markdown",
   "id": "5ff6943b",
   "metadata": {},
   "source": [
    "### plot a fits image with python\n",
    "\n",
    "\n",
    "see \n",
    "   \n",
    "   https://docs.astropy.org/en/stable/visualization/wcsaxes/index.html\n",
    "    \n",
    "    \n",
    "\n",
    "Here we want to do the following:\n",
    "  * open a fits file containing an image \n",
    "  * extract the part of the image to be plotted\n",
    "  * plot the extracted images with celestrial coordinates\n",
    "  \n",
    " \n",
    "A crucial element is the World Coordinate System\n",
    "  * in the header of the fits file there is all information which allows to map pixels in the file to celestrial coordinates \n",
    "  * the astro.wcs module allows us to handle this information \n",
    "  \n",
    "    \n",
    " "
   ]
  },
  {
   "cell_type": "code",
   "execution_count": null,
   "id": "681eab6e",
   "metadata": {},
   "outputs": [],
   "source": []
  }
 ],
 "metadata": {
  "kernelspec": {
   "display_name": "Python 3 (ipykernel)",
   "language": "python",
   "name": "python3"
  },
  "language_info": {
   "codemirror_mode": {
    "name": "ipython",
    "version": 3
   },
   "file_extension": ".py",
   "mimetype": "text/x-python",
   "name": "python",
   "nbconvert_exporter": "python",
   "pygments_lexer": "ipython3",
   "version": "3.9.17"
  }
 },
 "nbformat": 4,
 "nbformat_minor": 5
}
