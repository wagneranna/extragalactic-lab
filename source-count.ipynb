{
 "cells": [
  {
   "cell_type": "markdown",
   "id": "b5deb858",
   "metadata": {},
   "source": [
    "## Example 4 : Source counts in LoTSS Data Release 2 \n",
    "\n",
    "The LOFAR Two-metre Sky Survey has released the second set of data. \n",
    "For a description of the data release see the publication \n",
    "\n",
    "https://arxiv.org/abs/2202.11733\n",
    "     \n",
    "(click on 'PDF' to get the actual publication).\n",
    "\n",
    "The data are made public by ASTRON. For instance, the catalog of all source can be accessed via \n",
    "\n",
    "https://vo.astron.nl/lotss_dr2/q/src_cone/form\n"
   ]
  },
  {
   "cell_type": "markdown",
   "id": "e5a4b1df",
   "metadata": {},
   "source": [
    "To convert angles the astropy angle tool might be useful"
   ]
  },
  {
   "cell_type": "code",
   "execution_count": 6,
   "id": "5a0b876f",
   "metadata": {},
   "outputs": [
    {
     "name": "stdout",
     "output_type": "stream",
     "text": [
      "275.1262499999999\n",
      "hms_tuple(h=18.0, m=20.0, s=30.2999999999912)\n",
      "18h20m30.3s\n",
      "275d07m34.5s\n",
      "275:07:34.5\n",
      "18 20 30.3\n"
     ]
    }
   ],
   "source": [
    "from astropy.coordinates import Angle\n",
    "from astropy import units as u\n",
    "a = Angle('18h20m30.3s')\n",
    "print( a.degree )\n",
    "print( a.hms )\n",
    "print( a.to_string(unit=u.hour) )\n",
    "print( a.to_string(unit=u.degree) )\n",
    "print( a.to_string(unit=u.degree, sep=':') )\n",
    "print( a.to_string(unit=u.hour, sep=' ') )"
   ]
  },
  {
   "cell_type": "markdown",
   "id": "6a49d9ac",
   "metadata": {},
   "source": [
    "### Exercise a : Cone search via web interface \n",
    "\n",
    "$\\bullet$ Familiarize yourself with LoTSS DR2 web interface hosted by ASTRON.\n",
    "\n",
    "$\\bullet$ Read from Shimwell et al. (2022) an sky area covered by LoTSS, query the catalog and retrieve some sources."
   ]
  },
  {
   "cell_type": "markdown",
   "id": "e511277a",
   "metadata": {},
   "source": [
    "### Astronomical Data Query Language \n",
    "\n",
    "Instead of using the web interface, the Astronomical Data Query Language (ADQL) can be used, see e.g. for a brief summary of the syntax \n",
    "\n",
    "http://tapvizier.u-strasbg.fr/adql/help.html\n",
    "    "
   ]
  },
  {
   "cell_type": "markdown",
   "id": "96df38c8",
   "metadata": {},
   "source": [
    "### Exercise b : Cone search via ADQL\n",
    "\n",
    "Use the LoTSS catalogue web ADQL interface \n",
    "\n",
    "https://vo.astron.nl/__system__/adql/query/form\n",
    "\n",
    "and do a cone search. \n",
    "\n",
    "Use the statement 'SELECT TOP 100 *' to select at maximum 100 sources from the cataloge.\n",
    "\n",
    "Use 'FROM lotss_dr2.main_sources' to select the calatog.\n",
    "\n",
    "Use 'WHERE 1=CONTAINS( POINT('ICRS', XXXX, YYYY ), CIRCLE('ICRS',ra, dec, RRRR )' to select a cone. XXXX stands for the RA you select, YYYY for the DEC and RRRR for the radius (in degrees) of the search cone."
   ]
  },
  {
   "cell_type": "markdown",
   "id": "12bee74e",
   "metadata": {},
   "source": [
    "### Python Virtual Observatory \n",
    "\n",
    "We can also access the catalogue hosted by ASTRON via a python program using the Table Acccess Protocal (TAP) from the pyVO package \n",
    "\n",
    "https://pyvo.readthedocs.io/en/latest/\n",
    "\n",
    "see also\n",
    "\n",
    "http://docs.g-vo.org/talks/2016-adass-pyvo.pdf\n",
    "\n",
    "The access link is specified on\n",
    "\n",
    "https://vo.astron.nl/__system__/tap/run/info\n",
    "\n",
    "available tables are listed on \n",
    "\n",
    "https://vo.astron.nl/__system__/dc_tables/list/form\n"
   ]
  },
  {
   "cell_type": "code",
   "execution_count": 27,
   "id": "25de09ea",
   "metadata": {},
   "outputs": [
    {
     "name": "stdout",
     "output_type": "stream",
     "text": [
      "20001\n",
      "['__class__', '__delattr__', '__dict__', '__dir__', '__doc__', '__eq__', '__format__', '__ge__', '__getattribute__', '__getitem__', '__gt__', '__hash__', '__init__', '__init_subclass__', '__iter__', '__le__', '__len__', '__lt__', '__module__', '__ne__', '__new__', '__reduce__', '__reduce_ex__', '__repr__', '__setattr__', '__sizeof__', '__str__', '__subclasshook__', '__weakref__', '_adhocservices', '_findinfos', '_findresultsresource', '_findresultstable', '_findstatus', '_findstatusinfo', '_fldnames', '_from_result_url', '_infos', '_resultstable', '_session', '_status', '_url', '_votable', 'broadcast_samp', 'cursor', 'fielddescs', 'fieldname_with_ucd', 'fieldname_with_utype', 'fieldnames', 'from_result_url', 'get_adhocservice_by_id', 'get_adhocservice_by_ivoid', 'getcolumn', 'getdesc', 'getrecord', 'getvalue', 'infos', 'iter_adhocservices', 'iter_datalinks', 'query_status', 'queryurl', 'resultstable', 'status', 'table', 'to_table', 'votable']\n",
      "('source_name', 'ra', 'e_ra', 'dec', 'e_dec', 'peak_flux', 'e_peak_flux', 'total_flux', 'e_total_flux', 'majax', 'e_maj', 'minax', 'e_min', 'dc_maj', 'e_dc_maj', 'dc_min', 'e_dc_min', 'pa', 'e_pa', 'dc_pa', 'e_dc_pa', 'isl_rms', 's_code', 'mosaic_id', 'mosaic_url', 'number_pointings', 'masked_fraction')\n",
      "<Table length=20001>\n",
      "     source_name              ra               e_ra        ... number_pointings masked_fraction\n",
      "                             deg              arcsec       ...                                 \n",
      "        object             float64           float64       ...      int32           float64    \n",
      "---------------------- ---------------- ------------------ ... ---------------- ---------------\n",
      "ILTJ234910.64+162010.9 357.294337147575  0.131017835546684 ...                2             1.0\n",
      "ILTJ234910.10+162101.7 357.292099707817   0.16248196122682 ...                2             1.0\n",
      "ILTJ234908.63+162149.5 357.285949239301 0.0208572993528152 ...                2             1.0\n",
      "ILTJ234913.47+162729.5 357.306141385017  0.194790600773526 ...                2             1.0\n",
      "ILTJ234911.86+163052.9 357.299400836375  0.492909296812336 ...                2            0.77\n",
      "                   ...              ...                ... ...              ...             ...\n",
      "ILTJ001226.60+175603.3 3.11082807895179  0.854954302452897 ...                2            0.66\n",
      "ILTJ001133.96+175758.7 2.89148689767171   1.03609450166959 ...                1             0.0\n",
      "ILTJ001137.39+180003.3 2.90578114997825  0.428418305974508 ...                1             1.0\n",
      "ILTJ001126.34+180200.9 2.85976886269846  0.391598064809937 ...                1             1.0\n",
      "ILTJ001110.09+180419.8 2.79204399508355 0.0343680828299723 ...                1             1.0\n",
      "ILTJ001121.13+180325.2 2.83802158089136  0.192192821669339 ...                1             1.0\n"
     ]
    }
   ],
   "source": [
    "import pyvo as vo\n",
    "service = vo.dal.TAPService(\"https://vo.astron.nl/__system__/tap/run/tap\")\n",
    "result = service.run_sync(\n",
    "    \"\"\" SELECT TOP 5000 * \n",
    "    FROM lotss_dr2.main_sources\n",
    "    WHERE 1=CONTAINS(\n",
    "      POINT('ICRS', 18, 20.0 ),\n",
    "      CIRCLE('ICRS',ra, dec, 20.0 ))\n",
    "    \"\"\",\n",
    "    maxrec=20000)\n",
    "print(len(result['total_flux']))\n",
    "print(dir(result))\n",
    "print(result.fieldnames)\n",
    "# maxrec=100000\n",
    "print(result)"
   ]
  },
  {
   "cell_type": "markdown",
   "id": "81ff621a",
   "metadata": {},
   "source": [
    "### Source counts: Plot a histogram of the souce flux distribution \n",
    "\n",
    "See Section 5.6.4 in\n",
    "\n",
    "https://www.cv.nrao.edu/~sransom/web/Ch5.html\n",
    "    \n",
    "for the significance of source counts. "
   ]
  },
  {
   "cell_type": "markdown",
   "id": "0eeffc6e",
   "metadata": {},
   "source": [
    "### Exercise c : Create your own source count plot \n",
    "\n",
    "$\\bullet$ Read the Section 5.6.4 in 'Essential Radioastronomy', retrieve data an create a source count plot \n",
    "\n",
    "get to the lowest possible luminosities in LoTSS DR2 \n",
    "\n",
    "$\\bullet$ to do so: select an area in LoTSS DR2 with a very low noise, see Fig 2 in publication\n",
    "\n",
    "$\\bullet$ interpret your result: do you see the population of star forming galaxies at higher reshift? At which flux level does the curve drops due to incompleteness of sources ?"
   ]
  },
  {
   "cell_type": "code",
   "execution_count": 25,
   "id": "d30beba3",
   "metadata": {},
   "outputs": [
    {
     "name": "stdout",
     "output_type": "stream",
     "text": [
      "[ 542 3999 5602 3682 2122 1301  852  580  416  315  221  141  103   53\n",
      "   37   17    9    6    2]\n"
     ]
    },
    {
     "data": {
      "image/png": "[encoded data removed]",
      "text/plain": [
       "<Figure size 432x288 with 1 Axes>"
      ]
     },
     "metadata": {
      "needs_background": "light"
     },
     "output_type": "display_data"
    }
   ],
   "source": [
    "import matplotlib.pyplot as plt\n",
    "import numpy as np\n",
    "flux = result['total_flux']\n",
    "flux_min = np.amin(flux)\n",
    "flux_max = np.amax(flux)\n",
    "edges = np.logspace( np.log10(flux_min), np.log10(flux_max), 20 )\n",
    "hist, bin_edges = np.histogram( flux, bins=edges )\n",
    "bin_center = 0.5 * ( bin_edges[1:] + bin_edges[:-1])  # gives the center points of the bins\n",
    "bin_width  = bin_edges[1:] - bin_edges[:-1]           # gives the width of the bins \n",
    "dNdF = hist / bin_width \n",
    "x = bin_center\n",
    "y = dNdF * np.power( bin_center , 5/2) \n",
    "plt.plot( x, y,  '*' )\n",
    "plt.xscale('log')\n",
    "plt.yscale('log')\n",
    "plt.xlabel('flux density [mJy]')\n",
    "plt.ylabel(r'${\\rm d} N / {\\rm d} F  \\cdot F^{5/2}$   [arb.]')\n",
    "print(hist)\n"
   ]
  },
  {
   "cell_type": "markdown",
   "id": "25997d57",
   "metadata": {},
   "source": [
    "## Exercise 4 d : Create your own source count plot\n",
    "\n",
    "get to lowest possible luminosities in LoTSS DR2 \n",
    "\n",
    "to do so: select an area in LoTSS DR2 with a very low noise, see Fig 2 in publication\n",
    "\n",
    "interpret your result: do you see the population of star forming galaxies at higher reshift?\n",
    "\n",
    "at which flux level does the curve drops due to incompleteness of sources ?\n"
   ]
  },
  {
   "cell_type": "code",
   "execution_count": 32,
   "id": "edd88d23",
   "metadata": {},
   "outputs": [
    {
     "name": "stdout",
     "output_type": "stream",
     "text": [
      "bla 005 000001.234 9.876000\n"
     ]
    }
   ],
   "source": [
    "an = 5\n",
    "ra = 1.234\n",
    "dec = 9.876\n",
    "print(\"bla %03i %010.3f %f\" % ( an, ra, dec ) )"
   ]
  },
  {
   "cell_type": "code",
   "execution_count": null,
   "id": "5208b013",
   "metadata": {},
   "outputs": [],
   "source": []
  }
 ],
 "metadata": {
  "kernelspec": {
   "display_name": "Python 3 (ipykernel)",
   "language": "python",
   "name": "python3"
  },
  "language_info": {
   "codemirror_mode": {
    "name": "ipython",
    "version": 3
   },
   "file_extension": ".py",
   "mimetype": "text/x-python",
   "name": "python",
   "nbconvert_exporter": "python",
   "pygments_lexer": "ipython3",
   "version": "3.12.9"
  }
 },
 "nbformat": 4,
 "nbformat_minor": 5
}
