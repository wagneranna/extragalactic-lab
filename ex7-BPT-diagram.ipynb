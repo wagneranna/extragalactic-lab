{
 "cells": [
  {
   "cell_type": "markdown",
   "id": "42c1efb8-3d82-40b9-928a-955e2b1e3c78",
   "metadata": {},
   "source": [
    "### Use SDSS positions of sources with spectra to create a region file for ds9\n",
    "\n",
    "We would like to have some radio sources for which the radio emission can be analyzed together with SDSS spectra (e.g. to determine the redshift and to assess which AGN type it is). For many radio sources no SDSS are available and, vice versa, many AGN with SDSS spectra do not show radio emission. To find sources with both information we can show SDSS sources with spectra as regions in ds9.\n",
    " * determine the center of the LOFAR pointing\n",
    " * uses the SDSS interface to get all position of sources with spectra in the field of view of the LOFAR pointing (roughly 110 arcmin radius). You can select all objects with spectra or select galaxies or quasars \n",
    " * after 'Submit Query to Image List' you can copy the list of positions to sdsspos.txt\n",
    " * run the script below\n",
    " * open the LOFAR pointing in ds9 and load the region.reg in Regions"
   ]
  },
  {
   "cell_type": "code",
   "execution_count": null,
   "id": "16b48dfa-2448-436d-ab4f-b2d3bdde248a",
   "metadata": {},
   "outputs": [],
   "source": [
    "from astropy.coordinates import SkyCoord\n",
    "sc_CygA_str = \"12h46m12.0s +49d40m00.0s\"\n",
    "sc_CygA = SkyCoord( sc_CygA_str )\n",
    "print(sc_CygA) "
   ]
  },
  {
   "cell_type": "code",
   "execution_count": null,
   "id": "68227070-c185-45f8-95ac-02b37bb31286",
   "metadata": {},
   "outputs": [],
   "source": [
    "from astropy import units as u\n",
    "from astropy.coordinates import Angle\n",
    "\n",
    "def isfloat(num):\n",
    "    try:\n",
    "        float(num)\n",
    "        return True\n",
    "    except ValueError:\n",
    "        return False\n",
    "\n",
    "fp = open( 'region.reg', 'w' )\n",
    "for line in open('sdsspos.txt') :\n",
    "    token = line.strip('\\n').split(',')\n",
    "    if len(token) > 2  and isfloat(token[1]) and isfloat(token[2]):\n",
    "        ra, dec = Angle(token[1]+'d'), Angle(token[2]+'d') \n",
    "        print( \"j2000; circle\", ra.to_string(unit=u.hour, sep=':'),  dec.to_string(unit=u.degree, sep=':'),  \"0.2'\", file=fp  )\n",
    "fp.close()"
   ]
  },
  {
   "cell_type": "markdown",
   "id": "3e3ea81b",
   "metadata": {},
   "source": [
    "### Estimate line strengths to classify according to a BPT diagram\n",
    "\n",
    "\n",
    "* See for host classification by line ratios https://ui.adsabs.harvard.edu/abs/2006MNRAS.372..961K\n",
    "\n",
    "* we are using the OIII and H$_{\\beta}$ ration and the  NII and H$_{\\alpha}$\n",
    "\n",
    "* seach for a galaxy with SDSS spectrum, not too distant ($z \\lesssim 0.3$) since H$_{\\alpha}$ still has to be in the SDSS spectral range\n",
    "\n",
    "* search in the Explorer 'emissionLinesPort' for the line strength \n",
    " \n",
    "* try 'quasars' and 'galaxies' as type in SDSS, a selection in color (e.g. u-r < 1.0) my help to exclude 'red and dead' galaxies\n",
    "\n",
    "* enter the galaxies you find to the google sheet      https://docs.google.com/spreadsheets/d/18diAVbVX2hClkht91ObFN_Xno21lAf_ggGzvAZYqRjA/edit?usp=sharing\n"
   ]
  },
  {
   "cell_type": "markdown",
   "id": "9d106190",
   "metadata": {},
   "source": [
    "### The Fanaroff Riley classification \n",
    "\n",
    "For an expected separation see\n",
    " * https://ui.adsabs.harvard.edu/abs/2001A%26A...379L...1G\n",
    " * we can read the theoretical line from Fig. 1 in that publication  $\\log_{10}(L_{1.4 \\, \\rm GHz} / {\\rm W \\, Hz^{-1}}) = -0.62 M_R + 11.0 $ \n",
    " * This line is for luminosities obserbed at 1.4 GHz, to compare with LOFAR results we should take into account that in average LOFAR luminoisties are higher due to the average spectrum of radio galaxies, $L_\\nu \\propto \\nu^\\alpha$ with $\\alpha \\sim -0.8$, hence LOFAR luminosities are by $(1400/150)^{0.8}$ higher\n",
    " \n",
    "For recent LOFAR results you may also check \n",
    " * https://ui.adsabs.harvard.edu/abs/2019MNRAS.488.2701M"
   ]
  },
  {
   "cell_type": "code",
   "execution_count": null,
   "id": "a02624a7-c7f8-40e8-845a-daf5c4ddad89",
   "metadata": {},
   "outputs": [],
   "source": []
  }
 ],
 "metadata": {
  "kernelspec": {
   "display_name": "Python 3 (ipykernel)",
   "language": "python",
   "name": "python3"
  },
  "language_info": {
   "codemirror_mode": {
    "name": "ipython",
    "version": 3
   },
   "file_extension": ".py",
   "mimetype": "text/x-python",
   "name": "python",
   "nbconvert_exporter": "python",
   "pygments_lexer": "ipython3",
   "version": "3.12.9"
  }
 },
 "nbformat": 4,
 "nbformat_minor": 5
}
